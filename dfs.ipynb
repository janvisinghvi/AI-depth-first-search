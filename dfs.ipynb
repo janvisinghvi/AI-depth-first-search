{
  "nbformat": 4,
  "nbformat_minor": 0,
  "metadata": {
    "colab": {
      "name": "Untitled3.ipynb",
      "version": "0.3.2",
      "provenance": [],
      "include_colab_link": true
    },
    "kernelspec": {
      "name": "python3",
      "display_name": "Python 3"
    }
  },
  "cells": [
    {
      "cell_type": "markdown",
      "metadata": {
        "id": "view-in-github",
        "colab_type": "text"
      },
      "source": [
        "<a href=\"https://colab.research.google.com/github/janvisinghvi/AI-depth-first-search/blob/master/dfs.ipynb\" target=\"_parent\"><img src=\"https://colab.research.google.com/assets/colab-badge.svg\" alt=\"Open In Colab\"/></a>"
      ]
    },
    {
      "cell_type": "code",
      "metadata": {
        "id": "2FiEcnes0P7d",
        "colab_type": "code",
        "colab": {
          "base_uri": "https://localhost:8080/",
          "height": 34
        },
        "outputId": "3d5dd28c-b175-4097-ba90-d28be081ba4a"
      },
      "source": [
        "graph1 = {\n",
        "    'A': set(['B', 'C']),\n",
        "    'B': set(['A', 'D', 'E']),\n",
        "    'C': set(['A', 'F']),\n",
        "    'D': set(['B']),\n",
        "    'E': set(['B', 'F']),\n",
        "    'F': set(['C', 'E'])\n",
        "    }\n",
        "def dfs(graph, node, visited):\n",
        "    if node not in visited:\n",
        "        visited.append(node)\n",
        "        for n in graph[node]:\n",
        "            dfs(graph,n, visited)\n",
        "    return visited\n",
        "visited = dfs(graph1,'C', [])\n",
        "print(visited)\n"
      ],
      "execution_count": 1,
      "outputs": [
        {
          "output_type": "stream",
          "text": [
            "['C', 'A', 'B', 'D', 'E', 'F']\n"
          ],
          "name": "stdout"
        }
      ]
    }
  ]
}